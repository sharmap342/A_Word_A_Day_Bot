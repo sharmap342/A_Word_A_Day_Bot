{
 "cells": [
  {
   "cell_type": "code",
   "execution_count": 12,
   "metadata": {},
   "outputs": [],
   "source": [
    "#other libraries for sending email \n",
    "import pandas as pd\n",
    "import smtplib, ssl\n",
    "from email.mime.text import MIMEText\n",
    "from email.mime.multipart import MIMEMultipart"
   ]
  },
  {
   "cell_type": "code",
   "execution_count": 13,
   "metadata": {},
   "outputs": [],
   "source": [
    "df_list = pd.read_csv(r'address\\word_list.csv')"
   ]
  },
  {
   "cell_type": "code",
   "execution_count": 14,
   "metadata": {},
   "outputs": [],
   "source": [
    "#open var file to read the value of r\n",
    "with open(r'address\\var.txt', mode='r') as f:\n",
    "    r = f.read()\n",
    "    r = int(r)"
   ]
  },
  {
   "cell_type": "code",
   "execution_count": 15,
   "metadata": {},
   "outputs": [],
   "source": [
    "#get the values of word, meaning and associated link from datafram\n",
    "word = df_list['Word'][r]\n",
    "meaning = df_list['Meaning'][r]\n",
    "link = df_list['Link'][r]"
   ]
  },
  {
   "cell_type": "code",
   "execution_count": 16,
   "metadata": {},
   "outputs": [],
   "source": [
    "#define parameters for smtplib\n",
    "port = 465 #connect to this port number for gmail\n",
    "smtp_server = \"smtp.gmail.com\"\n",
    "sender_email = 'push123987@gmail.com'\n",
    "receiver_email = 'push123@gmail.com'\n",
    "password = 'password'\n",
    "message = MIMEMultipart('alternative') #use MIME extension to define message\n",
    "message['Subject'] = f'Word of the Day: {word}'\n",
    "message['From'] = sender_email\n",
    "message['To'] = receiver_email\n",
    "#html text to be sent in the email \n",
    "html_text = f\"\"\"\\\n",
    "<html>\n",
    "<body>\n",
    "<p>Good Day,<br>\n",
    "<br><b>Word of the Day: </b> {word}<br>\n",
    "<b>Meaning: </b> {meaning} <br>\n",
    "<br> <a href = {link}>Here are some usage for this word</a><br><br>\n",
    "Have a good rest of the day!<br>\n",
    "Your word Bot!\n",
    "</p>\n",
    "</body>\n",
    "</html>\n",
    "\"\"\"\n",
    "\n",
    "try:\n",
    "    #turn the html message into html MIMEText object\n",
    "    html = MIMEText(html_text, 'html')\n",
    "    #add html part to MIMEMUltipart message\n",
    "    message.attach(html)\n",
    "    #create secure connection with server and send email\n",
    "    context = ssl.create_default_context() #Encrypt SSL connection\n",
    "    with smtplib.SMTP_SSL(smtp_server, port, context=context) as server:\n",
    "        server.login(sender_email, password)\n",
    "        server.sendmail(sender_email, receiver_email, message.as_string())\n",
    "except Exception as e:\n",
    "    print(f'exception {e} has occured')"
   ]
  },
  {
   "cell_type": "code",
   "execution_count": 17,
   "metadata": {},
   "outputs": [],
   "source": [
    "#update the value of r in the file \n",
    "with open(r'address\\var.txt', mode='w') as f:\n",
    "    r += 1\n",
    "    f.write(str(r))"
   ]
  },
  {
   "cell_type": "code",
   "execution_count": null,
   "metadata": {},
   "outputs": [],
   "source": []
  }
 ],
 "metadata": {
  "kernelspec": {
   "display_name": "Python 3",
   "language": "python",
   "name": "python3"
  },
  "language_info": {
   "codemirror_mode": {
    "name": "ipython",
    "version": 3
   },
   "file_extension": ".py",
   "mimetype": "text/x-python",
   "name": "python",
   "nbconvert_exporter": "python",
   "pygments_lexer": "ipython3",
   "version": "3.7.4"
  }
 },
 "nbformat": 4,
 "nbformat_minor": 2
}
