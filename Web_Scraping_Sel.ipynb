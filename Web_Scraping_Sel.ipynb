{
 "cells": [
  {
   "cell_type": "code",
   "execution_count": 55,
   "metadata": {},
   "outputs": [],
   "source": [
    "#import libraries for web scrapping the data\n",
    "import pandas as pd\n",
    "import requests as req\n",
    "from bs4 import BeautifulSoup as bs\n",
    "import selenium\n",
    "from selenium import webdriver\n",
    "from selenium.webdriver.support.ui import WebDriverWait\n",
    "from selenium.webdriver.support import expected_conditions as EC\n",
    "from selenium.webdriver.common.by import By\n",
    "driver = webdriver.Chrome()"
   ]
  },
  {
   "cell_type": "code",
   "execution_count": 56,
   "metadata": {},
   "outputs": [],
   "source": [
    "#get data from the website\n",
    "driver.get(\"https://www.graduateshotline.com/gre-word-list.html\")\n",
    "#implicity wait for 10 seconds for the website to load\n",
    "driver.implicitly_wait(10)"
   ]
  },
  {
   "cell_type": "code",
   "execution_count": 57,
   "metadata": {},
   "outputs": [
    {
     "name": "stderr",
     "output_type": "stream",
     "text": [
      "C:\\Users\\sharm.LAPTOP-118C54MT\\Anaconda3\\lib\\site-packages\\ipykernel_launcher.py:2: DeprecationWarning: find_element_by_* commands are deprecated. Please use find_element() instead\n",
      "  \n"
     ]
    }
   ],
   "source": [
    "#load tables behind buttons list2 to list5\n",
    "for i in range(2,6):\n",
    "    driver.find_element_by_id(f'loadx{i}').click()\n",
    "    WebDriverWait(driver, 30)"
   ]
  },
  {
   "cell_type": "code",
   "execution_count": 73,
   "metadata": {},
   "outputs": [],
   "source": [
    "#make a soup object after loading all the data\n",
    "soup = bs(driver.page_source, 'html.parser')"
   ]
  },
  {
   "cell_type": "code",
   "execution_count": 74,
   "metadata": {},
   "outputs": [],
   "source": [
    "#store all the tables in res variable\n",
    "res = soup.find_all('table', attrs={'class': 'tablex border1'})"
   ]
  },
  {
   "cell_type": "code",
   "execution_count": 123,
   "metadata": {},
   "outputs": [
    {
     "name": "stdout",
     "output_type": "stream",
     "text": [
      "introspection\n",
      "examining one's own thoughts and feelings\n"
     ]
    }
   ],
   "source": [
    "#find word and its meaning\n",
    "print(res[0].find_all('td')[0].text) #word \n",
    "print(res[0].find_all('td')[1].text) #meaning of word"
   ]
  },
  {
   "cell_type": "code",
   "execution_count": 178,
   "metadata": {},
   "outputs": [
    {
     "name": "stdout",
     "output_type": "stream",
     "text": [
      "https://gre.graduateshotline.com/a.pl?word=introspection\n"
     ]
    }
   ],
   "source": [
    "#find link associated with word\n",
    "print(res[0].find_all('a')[0].get('href'))"
   ]
  },
  {
   "cell_type": "code",
   "execution_count": 108,
   "metadata": {},
   "outputs": [],
   "source": [
    "def word_meaning(res):\n",
    "    \"\"\"function to get the word and its meaning from soup object res\"\"\"\n",
    "    word = []\n",
    "    meaning = []\n",
    "    for i in res:\n",
    "        for index,j in enumerate(i.find_all('td')):\n",
    "            if index%2 == 0:\n",
    "                word.append(j.text)\n",
    "            else:\n",
    "                meaning.append(j.text)\n",
    "    return (word,meaning)           "
   ]
  },
  {
   "cell_type": "code",
   "execution_count": 127,
   "metadata": {},
   "outputs": [],
   "source": [
    "def link(res):\n",
    "    \"\"\"function to get link associated with the word from soup object res\"\"\"\n",
    "    link = []\n",
    "    for i in res:\n",
    "        for j in i.find_all('a'):\n",
    "            link.append(j.get('href'))\n",
    "    return link"
   ]
  },
  {
   "cell_type": "code",
   "execution_count": 128,
   "metadata": {},
   "outputs": [],
   "source": [
    "word, meaning = word_meaning(res)\n",
    "link = link(res)"
   ]
  },
  {
   "cell_type": "code",
   "execution_count": 114,
   "metadata": {},
   "outputs": [
    {
     "data": {
      "text/plain": [
       "'Furtive'"
      ]
     },
     "execution_count": 114,
     "metadata": {},
     "output_type": "execute_result"
    }
   ],
   "source": [
    "print(word[1309]) #last word\n",
    "print(meaning[1309]) #meaning of last word\n",
    "print(link[1309]) #link associated with last word"
   ]
  },
  {
   "cell_type": "code",
   "execution_count": 140,
   "metadata": {},
   "outputs": [
    {
     "data": {
      "text/html": [
       "<div>\n",
       "<style scoped>\n",
       "    .dataframe tbody tr th:only-of-type {\n",
       "        vertical-align: middle;\n",
       "    }\n",
       "\n",
       "    .dataframe tbody tr th {\n",
       "        vertical-align: top;\n",
       "    }\n",
       "\n",
       "    .dataframe thead th {\n",
       "        text-align: right;\n",
       "    }\n",
       "</style>\n",
       "<table border=\"1\" class=\"dataframe\">\n",
       "  <thead>\n",
       "    <tr style=\"text-align: right;\">\n",
       "      <th></th>\n",
       "      <th>Word</th>\n",
       "      <th>Meaning</th>\n",
       "      <th>Link</th>\n",
       "    </tr>\n",
       "  </thead>\n",
       "  <tbody>\n",
       "    <tr>\n",
       "      <td>0</td>\n",
       "      <td>introspection</td>\n",
       "      <td>examining one's own thoughts and feelings</td>\n",
       "      <td>https://gre.graduateshotline.com/a.pl?word=int...</td>\n",
       "    </tr>\n",
       "    <tr>\n",
       "      <td>1</td>\n",
       "      <td>philanthropist</td>\n",
       "      <td>one who loves mankind</td>\n",
       "      <td>https://gre.graduateshotline.com/a.pl?word=phi...</td>\n",
       "    </tr>\n",
       "    <tr>\n",
       "      <td>2</td>\n",
       "      <td>antidote</td>\n",
       "      <td>medicine used against a poison or a disease</td>\n",
       "      <td>https://gre.graduateshotline.com/a.pl?word=ant...</td>\n",
       "    </tr>\n",
       "    <tr>\n",
       "      <td>3</td>\n",
       "      <td>strive</td>\n",
       "      <td>to make great efforts, to struggle</td>\n",
       "      <td>https://gre.graduateshotline.com/a.pl?word=strive</td>\n",
       "    </tr>\n",
       "    <tr>\n",
       "      <td>4</td>\n",
       "      <td>ambidextrous</td>\n",
       "      <td>able to use the left hand or the right equally...</td>\n",
       "      <td>https://gre.graduateshotline.com/a.pl?word=amb...</td>\n",
       "    </tr>\n",
       "  </tbody>\n",
       "</table>\n",
       "</div>"
      ],
      "text/plain": [
       "             Word                                            Meaning  \\\n",
       "0   introspection          examining one's own thoughts and feelings   \n",
       "1  philanthropist                              one who loves mankind   \n",
       "2        antidote        medicine used against a poison or a disease   \n",
       "3          strive                 to make great efforts, to struggle   \n",
       "4    ambidextrous  able to use the left hand or the right equally...   \n",
       "\n",
       "                                                Link  \n",
       "0  https://gre.graduateshotline.com/a.pl?word=int...  \n",
       "1  https://gre.graduateshotline.com/a.pl?word=phi...  \n",
       "2  https://gre.graduateshotline.com/a.pl?word=ant...  \n",
       "3  https://gre.graduateshotline.com/a.pl?word=strive  \n",
       "4  https://gre.graduateshotline.com/a.pl?word=amb...  "
      ]
     },
     "execution_count": 140,
     "metadata": {},
     "output_type": "execute_result"
    }
   ],
   "source": [
    "#store data in a data frame and export it for later use\n",
    "df_list = pd.DataFrame({'Word': word, 'Meaning': meaning, 'Link': link})\n",
    "df_list.to_csv(r'E:\\Machine Learning Engineer\\Medium Articles\\A_word_a_day_boat\\word_list.csv')\n",
    "df_list.head()"
   ]
  },
  {
   "cell_type": "code",
   "execution_count": null,
   "metadata": {},
   "outputs": [],
   "source": []
  }
 ],
 "metadata": {
  "kernelspec": {
   "display_name": "Python 3",
   "language": "python",
   "name": "python3"
  },
  "language_info": {
   "codemirror_mode": {
    "name": "ipython",
    "version": 3
   },
   "file_extension": ".py",
   "mimetype": "text/x-python",
   "name": "python",
   "nbconvert_exporter": "python",
   "pygments_lexer": "ipython3",
   "version": "3.7.4"
  }
 },
 "nbformat": 4,
 "nbformat_minor": 2
}
